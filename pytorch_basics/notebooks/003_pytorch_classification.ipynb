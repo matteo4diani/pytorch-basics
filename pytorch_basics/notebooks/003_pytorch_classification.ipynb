{
 "cells": [
  {
   "cell_type": "code",
   "execution_count": 1,
   "id": "00376297-3981-430e-9772-892930511b9b",
   "metadata": {},
   "outputs": [
    {
     "data": {
      "text/plain": [
       "('Seed: 42', 'Device: mps', 'PyTorch: 2.0.1')"
      ]
     },
     "execution_count": 1,
     "metadata": {},
     "output_type": "execute_result"
    }
   ],
   "source": [
    "%matplotlib inline\n",
    "import numpy as np\n",
    "import pandas as pd\n",
    "import torch\n",
    "from torch import nn # torch.nn contains all of PT building blocks for Neural Networks\n",
    "import matplotlib.pyplot as plt\n",
    "\n",
    "DEVICE = \"cuda\" if torch.cuda.is_available() \\\n",
    "    else \"mps\" if torch.backends.mps.is_available() \\\n",
    "    else \"cpu\"\n",
    "\n",
    "RANDOM_SEED = 42\n",
    "\n",
    "torch.set_default_device(DEVICE)\n",
    "torch.manual_seed(RANDOM_SEED)\n",
    "f\"Seed: {RANDOM_SEED}\", f\"Device: {DEVICE}\", f\"PyTorch: {torch.__version__}\""
   ]
  }
 ],
 "metadata": {
  "kernelspec": {
   "display_name": "Python 3 (ipykernel)",
   "language": "python",
   "name": "python3"
  },
  "language_info": {
   "codemirror_mode": {
    "name": "ipython",
    "version": 3
   },
   "file_extension": ".py",
   "mimetype": "text/x-python",
   "name": "python",
   "nbconvert_exporter": "python",
   "pygments_lexer": "ipython3",
   "version": "3.11.3"
  }
 },
 "nbformat": 4,
 "nbformat_minor": 5
}
