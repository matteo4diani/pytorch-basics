{
 "cells": [
  {
   "cell_type": "code",
   "execution_count": 1,
   "id": "16fbf5ee-39c8-467e-a8d4-1a7b9a8f7518",
   "metadata": {},
   "outputs": [],
   "source": [
    "import numpy as np\n",
    "import pandas as pd\n",
    "import torch\n",
    "import matplotlib.pyplot as plt"
   ]
  },
  {
   "cell_type": "code",
   "execution_count": 2,
   "id": "e12caef2-dac9-46a4-a352-3fd96b8cf9a1",
   "metadata": {},
   "outputs": [
    {
     "name": "stdout",
     "output_type": "stream",
     "text": [
      "tensor([1.], device='mps:0')\n"
     ]
    }
   ],
   "source": [
    "if torch.backends.mps.is_available():\n",
    "    mps_device = torch.set_default_device(\"mps\")\n",
    "    x = torch.ones(1, device=mps_device)\n",
    "    print (x)\n",
    "else:\n",
    "    print (\"MPS device not found.\")"
   ]
  },
  {
   "cell_type": "markdown",
   "id": "747e6267-0758-4b8a-802c-b4aa3957a998",
   "metadata": {},
   "source": [
    "# Creating Tensors"
   ]
  },
  {
   "cell_type": "code",
   "execution_count": 3,
   "id": "aa5d4c88-8125-4400-8b10-abe9227dea81",
   "metadata": {},
   "outputs": [
    {
     "data": {
      "text/plain": [
       "tensor(7, device='mps:0')"
      ]
     },
     "execution_count": 3,
     "metadata": {},
     "output_type": "execute_result"
    }
   ],
   "source": [
    "# Scalar\n",
    "\n",
    "scalar = torch.tensor(7)\n",
    "scalar"
   ]
  },
  {
   "cell_type": "code",
   "execution_count": 4,
   "id": "2c9d1524-723a-40d7-8406-14dbc75142c5",
   "metadata": {},
   "outputs": [
    {
     "data": {
      "text/plain": [
       "0"
      ]
     },
     "execution_count": 4,
     "metadata": {},
     "output_type": "execute_result"
    }
   ],
   "source": [
    "scalar.ndim"
   ]
  },
  {
   "cell_type": "code",
   "execution_count": 5,
   "id": "172084bd-62fa-4a55-858b-a9f6e95c4e79",
   "metadata": {},
   "outputs": [
    {
     "data": {
      "text/plain": [
       "7"
      ]
     },
     "execution_count": 5,
     "metadata": {},
     "output_type": "execute_result"
    }
   ],
   "source": [
    "scalar.item() # Get POPO back"
   ]
  },
  {
   "cell_type": "code",
   "execution_count": 6,
   "id": "5b571bc8-f0ad-4922-8332-86548d82d8f7",
   "metadata": {},
   "outputs": [
    {
     "data": {
      "text/plain": [
       "tensor([7, 7], device='mps:0')"
      ]
     },
     "execution_count": 6,
     "metadata": {},
     "output_type": "execute_result"
    }
   ],
   "source": [
    "# Vector\n",
    "\n",
    "vector = torch.tensor([7, 7])\n",
    "vector"
   ]
  },
  {
   "cell_type": "code",
   "execution_count": 7,
   "id": "2dcef92e-82e3-4a11-bcf2-602f4f8b4f86",
   "metadata": {},
   "outputs": [
    {
     "data": {
      "text/plain": [
       "1"
      ]
     },
     "execution_count": 7,
     "metadata": {},
     "output_type": "execute_result"
    }
   ],
   "source": [
    "vector.ndim # Dimension of the tensor"
   ]
  },
  {
   "cell_type": "code",
   "execution_count": 8,
   "id": "dbcd8c50-cc9f-4cc2-9ba5-3491e88fdc9c",
   "metadata": {},
   "outputs": [
    {
     "data": {
      "text/plain": [
       "torch.Size([2])"
      ]
     },
     "execution_count": 8,
     "metadata": {},
     "output_type": "execute_result"
    }
   ],
   "source": [
    "vector.shape # Shape of the tensor"
   ]
  },
  {
   "cell_type": "code",
   "execution_count": 9,
   "id": "3c3a556b-1e33-4b80-a40a-f4a6572a471d",
   "metadata": {},
   "outputs": [
    {
     "data": {
      "text/plain": [
       "tensor([[ 7,  8],\n",
       "        [ 9, 10]], device='mps:0')"
      ]
     },
     "execution_count": 9,
     "metadata": {},
     "output_type": "execute_result"
    }
   ],
   "source": [
    "# MATRIX\n",
    "\n",
    "matrix = torch.tensor(\n",
    "    [[7, 8],\n",
    "     [9, 10]]\n",
    ")\n",
    "matrix"
   ]
  },
  {
   "cell_type": "code",
   "execution_count": 10,
   "id": "9d715800-e8c7-48da-8ccc-4e12d3b03f13",
   "metadata": {},
   "outputs": [
    {
     "data": {
      "text/plain": [
       "2"
      ]
     },
     "execution_count": 10,
     "metadata": {},
     "output_type": "execute_result"
    }
   ],
   "source": [
    "matrix.ndim"
   ]
  },
  {
   "cell_type": "code",
   "execution_count": 11,
   "id": "e8a966d4-ef7c-4e19-8e28-31ab5bb8b11e",
   "metadata": {},
   "outputs": [
    {
     "data": {
      "text/plain": [
       "tensor([7, 8], device='mps:0')"
      ]
     },
     "execution_count": 11,
     "metadata": {},
     "output_type": "execute_result"
    }
   ],
   "source": [
    "matrix[0]"
   ]
  },
  {
   "cell_type": "code",
   "execution_count": 12,
   "id": "c34b0b09-df1d-489a-9c56-ea669d4ff71e",
   "metadata": {},
   "outputs": [
    {
     "data": {
      "text/plain": [
       "torch.Size([2, 2])"
      ]
     },
     "execution_count": 12,
     "metadata": {},
     "output_type": "execute_result"
    }
   ],
   "source": [
    "matrix.shape"
   ]
  },
  {
   "cell_type": "code",
   "execution_count": 13,
   "id": "ae507133-a07a-4436-8d1c-0c2edd57553b",
   "metadata": {},
   "outputs": [
    {
     "data": {
      "text/plain": [
       "tensor([[[1, 2, 3],\n",
       "         [4, 5, 6],\n",
       "         [7, 8, 9]]], device='mps:0')"
      ]
     },
     "execution_count": 13,
     "metadata": {},
     "output_type": "execute_result"
    }
   ],
   "source": [
    "# TENSOR\n",
    "\n",
    "tensor = torch.tensor(\n",
    "    [[[1, 2, 3],\n",
    "      [4, 5, 6],\n",
    "      [7, 8, 9]]]\n",
    ")\n",
    "tensor"
   ]
  },
  {
   "cell_type": "code",
   "execution_count": 14,
   "id": "ff01e33f-4fbf-441c-bf96-5d5fd0cd0a97",
   "metadata": {},
   "outputs": [
    {
     "data": {
      "text/plain": [
       "tensor([[1, 2, 3],\n",
       "        [4, 5, 6],\n",
       "        [7, 8, 9]], device='mps:0')"
      ]
     },
     "execution_count": 14,
     "metadata": {},
     "output_type": "execute_result"
    }
   ],
   "source": [
    "tensor[0]"
   ]
  },
  {
   "cell_type": "code",
   "execution_count": 15,
   "id": "ffb377b8-7efb-46fa-85fd-996d6730854d",
   "metadata": {},
   "outputs": [
    {
     "data": {
      "text/plain": [
       "tensor([1, 2, 3], device='mps:0')"
      ]
     },
     "execution_count": 15,
     "metadata": {},
     "output_type": "execute_result"
    }
   ],
   "source": [
    "tensor[0, 0]"
   ]
  },
  {
   "cell_type": "code",
   "execution_count": 16,
   "id": "9c3e5485-66f3-405d-bc9f-b8231e4eba71",
   "metadata": {},
   "outputs": [
    {
     "data": {
      "text/plain": [
       "tensor([7, 8, 9], device='mps:0')"
      ]
     },
     "execution_count": 16,
     "metadata": {},
     "output_type": "execute_result"
    }
   ],
   "source": [
    "tensor[0, -1]"
   ]
  },
  {
   "cell_type": "code",
   "execution_count": 17,
   "id": "dbdc636e-2152-4aee-a478-f3d6e1fe3163",
   "metadata": {},
   "outputs": [
    {
     "data": {
      "text/plain": [
       "3"
      ]
     },
     "execution_count": 17,
     "metadata": {},
     "output_type": "execute_result"
    }
   ],
   "source": [
    "tensor.ndim"
   ]
  },
  {
   "cell_type": "code",
   "execution_count": 18,
   "id": "687b6829-0fd3-4c99-9e2c-d6beae19c3cd",
   "metadata": {},
   "outputs": [
    {
     "data": {
      "text/plain": [
       "torch.Size([1, 3, 3])"
      ]
     },
     "execution_count": 18,
     "metadata": {},
     "output_type": "execute_result"
    }
   ],
   "source": [
    "tensor.shape"
   ]
  },
  {
   "cell_type": "markdown",
   "id": "2d20c27e-d682-4e0f-8c08-d7300a4a9c7e",
   "metadata": {},
   "source": [
    "## Random Tensors"
   ]
  },
  {
   "cell_type": "code",
   "execution_count": 19,
   "id": "85f4b018-2e5b-4e5e-8f64-7e287f105161",
   "metadata": {},
   "outputs": [
    {
     "data": {
      "text/plain": [
       "tensor([[0.2973, 0.1214, 0.7248, 0.1033],\n",
       "        [0.4436, 0.9827, 0.0942, 0.5960],\n",
       "        [0.5202, 0.4889, 0.5998, 0.9141]], device='mps:0')"
      ]
     },
     "execution_count": 19,
     "metadata": {},
     "output_type": "execute_result"
    }
   ],
   "source": [
    "# Random Tensor\n",
    "random_tensor = torch.rand(3, 4)\n",
    "random_tensor"
   ]
  },
  {
   "cell_type": "code",
   "execution_count": 20,
   "id": "11798346-a124-4ad2-8921-fe48013b4ba9",
   "metadata": {},
   "outputs": [
    {
     "data": {
      "text/plain": [
       "2"
      ]
     },
     "execution_count": 20,
     "metadata": {},
     "output_type": "execute_result"
    }
   ],
   "source": [
    "random_tensor.ndim"
   ]
  },
  {
   "cell_type": "code",
   "execution_count": 21,
   "id": "4ea4723d-7d01-4b2b-9844-30948343d845",
   "metadata": {},
   "outputs": [
    {
     "data": {
      "text/plain": [
       "torch.Size([3, 4])"
      ]
     },
     "execution_count": 21,
     "metadata": {},
     "output_type": "execute_result"
    }
   ],
   "source": [
    "random_tensor.shape"
   ]
  },
  {
   "cell_type": "code",
   "execution_count": 22,
   "id": "40dcb926-5e36-4368-8ca1-2e5fe2d70397",
   "metadata": {},
   "outputs": [
    {
     "data": {
      "text/plain": [
       "tensor([[0.4836, 0.8226, 0.1681]], device='mps:0')"
      ]
     },
     "execution_count": 22,
     "metadata": {},
     "output_type": "execute_result"
    }
   ],
   "source": [
    "random_tensor = torch.rand(1, 3)\n",
    "random_tensor"
   ]
  },
  {
   "cell_type": "code",
   "execution_count": 23,
   "id": "f400f6ba-952a-48f6-9a15-af2ee3d7ef7a",
   "metadata": {},
   "outputs": [
    {
     "data": {
      "text/plain": [
       "tensor([[0.6563],\n",
       "        [0.7312],\n",
       "        [0.4109]], device='mps:0')"
      ]
     },
     "execution_count": 23,
     "metadata": {},
     "output_type": "execute_result"
    }
   ],
   "source": [
    "random_tensor = torch.rand(3, 1)\n",
    "random_tensor"
   ]
  },
  {
   "cell_type": "code",
   "execution_count": 24,
   "id": "dbc47ca3-0ea1-46fb-b98d-d6ebf8a1c8ea",
   "metadata": {},
   "outputs": [
    {
     "data": {
      "text/plain": [
       "tensor([0.5581, 0.9227, 0.2220], device='mps:0')"
      ]
     },
     "execution_count": 24,
     "metadata": {},
     "output_type": "execute_result"
    }
   ],
   "source": [
    "random_tensor = torch.rand(3)\n",
    "random_tensor"
   ]
  },
  {
   "cell_type": "code",
   "execution_count": 25,
   "id": "c6582c65-96d6-4053-94d9-cb69b1107a51",
   "metadata": {},
   "outputs": [
    {
     "data": {
      "text/plain": [
       "0.21429908275604248"
      ]
     },
     "execution_count": 25,
     "metadata": {},
     "output_type": "execute_result"
    }
   ],
   "source": [
    "random_tensor = torch.rand(1)\n",
    "random_tensor.item()"
   ]
  },
  {
   "cell_type": "code",
   "execution_count": 26,
   "id": "6aa37e16-541f-42ec-822c-305381c46e7a",
   "metadata": {},
   "outputs": [
    {
     "data": {
      "text/plain": [
       "tensor([[[0.5273, 0.0863, 0.4093],\n",
       "         [0.2303, 0.9501, 0.1870],\n",
       "         [0.7886, 0.1741, 0.2432],\n",
       "         ...,\n",
       "         [0.7245, 0.4280, 0.4122],\n",
       "         [0.4714, 0.0220, 0.3422],\n",
       "         [0.6306, 0.1989, 0.5046]],\n",
       "\n",
       "        [[0.6154, 0.6321, 0.3663],\n",
       "         [0.6663, 0.5526, 0.9389],\n",
       "         [0.3569, 0.0571, 0.9174],\n",
       "         ...,\n",
       "         [0.0394, 0.9728, 0.4387],\n",
       "         [0.4891, 0.0613, 0.0636],\n",
       "         [0.4327, 0.2086, 0.6891]],\n",
       "\n",
       "        [[0.1396, 0.2237, 0.0089],\n",
       "         [0.8087, 0.1457, 0.8420],\n",
       "         [0.0551, 0.7710, 0.3737],\n",
       "         ...,\n",
       "         [0.5431, 0.4332, 0.2921],\n",
       "         [0.6126, 0.0134, 0.2872],\n",
       "         [0.1630, 0.1714, 0.9649]],\n",
       "\n",
       "        ...,\n",
       "\n",
       "        [[0.3359, 0.6838, 0.0818],\n",
       "         [0.5309, 0.1656, 0.7350],\n",
       "         [0.0241, 0.6356, 0.5833],\n",
       "         ...,\n",
       "         [0.8642, 0.3399, 0.6847],\n",
       "         [0.0223, 0.7935, 0.7336],\n",
       "         [0.5464, 0.0171, 0.8736]],\n",
       "\n",
       "        [[0.0516, 0.4063, 0.9404],\n",
       "         [0.2830, 0.2947, 0.0916],\n",
       "         [0.4059, 0.9955, 0.2742],\n",
       "         ...,\n",
       "         [0.7403, 0.5484, 0.4714],\n",
       "         [0.6645, 0.3092, 0.5547],\n",
       "         [0.5156, 0.7858, 0.3955]],\n",
       "\n",
       "        [[0.6914, 0.8132, 0.3539],\n",
       "         [0.9290, 0.5502, 0.2445],\n",
       "         [0.0893, 0.0400, 0.1589],\n",
       "         ...,\n",
       "         [0.1431, 0.2128, 0.4389],\n",
       "         [0.9215, 0.3879, 0.5928],\n",
       "         [0.1055, 0.2906, 0.8481]]], device='mps:0')"
      ]
     },
     "execution_count": 26,
     "metadata": {},
     "output_type": "execute_result"
    }
   ],
   "source": [
    "# Random Tensor with same shape as image tensor\n",
    "# height, width, colour channels (R, G, B) \n",
    "random_image_size_tensor = torch.rand(size=(224, 224, 3))\n",
    "random_image_size_tensor"
   ]
  },
  {
   "cell_type": "code",
   "execution_count": 27,
   "id": "b06815e6-35eb-42a3-b491-589c9b510b1c",
   "metadata": {},
   "outputs": [
    {
     "name": "stdout",
     "output_type": "stream",
     "text": [
      "tensor([[0.5238, 0.0114, 0.9500, 0.3763],\n",
      "        [0.6265, 0.1563, 0.9671, 0.7432],\n",
      "        [0.8034, 0.8123, 0.7619, 0.2116]], device='mps:0')\n"
     ]
    },
    {
     "data": {
      "text/plain": [
       "0.0"
      ]
     },
     "execution_count": 27,
     "metadata": {},
     "output_type": "execute_result"
    }
   ],
   "source": [
    "# Random Tensor of 0 and 1\n",
    "random_tensor = torch.rand(3, 4)\n",
    "zeros = torch.zeros(random_tensor[0].shape)\n",
    "print(random_tensor)\n",
    "zeros.dot(random_tensor).item()"
   ]
  },
  {
   "cell_type": "code",
   "execution_count": 28,
   "id": "cfc44d03-d426-4d14-98b2-3e3e608e7f4d",
   "metadata": {},
   "outputs": [
    {
     "name": "stdout",
     "output_type": "stream",
     "text": [
      "tensor([[0.0014, 0.9440, 0.8950, 0.4450],\n",
      "        [0.2807, 0.1296, 0.8160, 0.8143],\n",
      "        [0.7278, 0.7183, 0.1520, 0.8670]], device='mps:0')\n",
      "tensor(6.7909, device='mps:0')\n"
     ]
    },
    {
     "data": {
      "text/plain": [
       "tensor(6.7909, device='mps:0')"
      ]
     },
     "execution_count": 28,
     "metadata": {},
     "output_type": "execute_result"
    }
   ],
   "source": [
    "# Random Tensor of 0 and 1\n",
    "random_tensor = torch.rand(3, 4)\n",
    "ones = torch.ones(random_tensor[0].shape)\n",
    "print(random_tensor)\n",
    "print(ones.dot(random_tensor)) # sum of all elements\n",
    "random_tensor.sum()"
   ]
  },
  {
   "cell_type": "code",
   "execution_count": 29,
   "id": "4e7f53d7-da83-444f-8331-10cff991dc31",
   "metadata": {},
   "outputs": [
    {
     "data": {
      "text/plain": [
       "torch.float32"
      ]
     },
     "execution_count": 29,
     "metadata": {},
     "output_type": "execute_result"
    }
   ],
   "source": [
    "ones.dtype"
   ]
  },
  {
   "cell_type": "code",
   "execution_count": 30,
   "id": "4fc36c62-e8d4-4c79-96dc-8ea643136550",
   "metadata": {},
   "outputs": [
    {
     "data": {
      "text/plain": [
       "torch.float32"
      ]
     },
     "execution_count": 30,
     "metadata": {},
     "output_type": "execute_result"
    }
   ],
   "source": [
    "zeros.dtype"
   ]
  },
  {
   "cell_type": "markdown",
   "id": "3c528814-ce9b-4af7-9d11-89f3debd23dc",
   "metadata": {},
   "source": [
    "## Creating a range of tensors and tensors-like"
   ]
  },
  {
   "cell_type": "code",
   "execution_count": 31,
   "id": "3b44b15d-900b-43c2-916a-cf05a6144cc9",
   "metadata": {},
   "outputs": [
    {
     "data": {
      "text/plain": [
       "tensor([0, 1, 2, 3, 4, 5, 6, 7, 8, 9], device='mps:0')"
      ]
     },
     "execution_count": 31,
     "metadata": {},
     "output_type": "execute_result"
    }
   ],
   "source": [
    "torch.arange(0, 10)"
   ]
  },
  {
   "cell_type": "code",
   "execution_count": 32,
   "id": "469cf469-cce4-443e-8a90-6f9d0f4618a6",
   "metadata": {},
   "outputs": [
    {
     "data": {
      "text/plain": [
       "tensor([  0,  77, 154, 231, 308, 385, 462, 539, 616, 693, 770, 847, 924],\n",
       "       device='mps:0')"
      ]
     },
     "execution_count": 32,
     "metadata": {},
     "output_type": "execute_result"
    }
   ],
   "source": [
    "torch.arange(start=0, end=1000, step=77)"
   ]
  },
  {
   "cell_type": "code",
   "execution_count": 33,
   "id": "66eb222d-97f4-4cd9-9236-c63c2e968f37",
   "metadata": {},
   "outputs": [
    {
     "data": {
      "text/plain": [
       "tensor([0, 0, 0, 0, 0, 0, 0, 0, 0, 0], device='mps:0')"
      ]
     },
     "execution_count": 33,
     "metadata": {},
     "output_type": "execute_result"
    }
   ],
   "source": [
    "# Copy tensor\n",
    "one_to_ten = torch.arange(start=1, end=11, step=1)\n",
    "ten_zeros = torch.zeros_like(one_to_ten)\n",
    "ten_zeros"
   ]
  },
  {
   "cell_type": "code",
   "execution_count": 34,
   "id": "014fdb99-d5fe-4a80-99bd-7945d7e88518",
   "metadata": {},
   "outputs": [
    {
     "data": {
      "text/plain": [
       "tensor([3., 6., 9.], device='mps:0')"
      ]
     },
     "execution_count": 34,
     "metadata": {},
     "output_type": "execute_result"
    }
   ],
   "source": [
    "float32_tensor = torch.tensor([3.0, 6.0, 9.0], dtype=None)\n",
    "float32_tensor"
   ]
  },
  {
   "cell_type": "code",
   "execution_count": 35,
   "id": "2d387b63-5fe8-45b2-9524-fec7f973aba7",
   "metadata": {},
   "outputs": [
    {
     "data": {
      "text/plain": [
       "torch.float32"
      ]
     },
     "execution_count": 35,
     "metadata": {},
     "output_type": "execute_result"
    }
   ],
   "source": [
    "float32_tensor.dtype"
   ]
  },
  {
   "cell_type": "code",
   "execution_count": 36,
   "id": "83e337e4-00d4-4223-ae12-155794e5ba54",
   "metadata": {},
   "outputs": [
    {
     "data": {
      "text/plain": [
       "tensor([3., 6., 9.], device='mps:0', dtype=torch.float16)"
      ]
     },
     "execution_count": 36,
     "metadata": {},
     "output_type": "execute_result"
    }
   ],
   "source": [
    "float16_tensor = torch.tensor([3.0, 6.0, 9.0], dtype=torch.float16)\n",
    "float16_tensor"
   ]
  },
  {
   "cell_type": "code",
   "execution_count": 37,
   "id": "dd512cb4-7059-4fcb-a7aa-406c0ba99dfa",
   "metadata": {},
   "outputs": [
    {
     "data": {
      "text/plain": [
       "torch.float16"
      ]
     },
     "execution_count": 37,
     "metadata": {},
     "output_type": "execute_result"
    }
   ],
   "source": [
    "float16_tensor.dtype"
   ]
  },
  {
   "cell_type": "code",
   "execution_count": 38,
   "id": "3144e088-a936-4543-af0a-7adec518736d",
   "metadata": {},
   "outputs": [
    {
     "data": {
      "text/plain": [
       "torch.int64"
      ]
     },
     "execution_count": 38,
     "metadata": {},
     "output_type": "execute_result"
    }
   ],
   "source": [
    "int64_tensor = torch.tensor([3, 6, 9], dtype=None)\n",
    "int64_tensor.dtype"
   ]
  },
  {
   "cell_type": "code",
   "execution_count": 39,
   "id": "f49110ad-3f48-42da-95fe-c57ce9767d0e",
   "metadata": {},
   "outputs": [
    {
     "data": {
      "text/plain": [
       "tensor([3., 6., 9.])"
      ]
     },
     "execution_count": 39,
     "metadata": {},
     "output_type": "execute_result"
    }
   ],
   "source": [
    "cpu_tensor = torch.tensor([3.0, 6.0, 9.0], device=\"cpu\")\n",
    "cpu_tensor"
   ]
  },
  {
   "cell_type": "code",
   "execution_count": 40,
   "id": "c3a824b6-10bc-4487-9c45-89bce125a2bb",
   "metadata": {},
   "outputs": [
    {
     "data": {
      "text/plain": [
       "tensor([3., 6., 9.], device='mps:0')"
      ]
     },
     "execution_count": 40,
     "metadata": {},
     "output_type": "execute_result"
    }
   ],
   "source": [
    "nograd_tensor = torch.tensor([3.0, 6.0, 9.0], requires_grad=False)\n",
    "nograd_tensor"
   ]
  },
  {
   "cell_type": "markdown",
   "id": "e3c6f0ff-4a9d-4a80-bc83-9879df254590",
   "metadata": {},
   "source": [
    "# Tensor Datatypes\n",
    "\n",
    "3 common pitfalls:\n",
    "\n",
    "1. Tensors not right datatype\n",
    "2. Tensors not right shape\n",
    "3. Tensors not on the right device"
   ]
  },
  {
   "cell_type": "code",
   "execution_count": 41,
   "id": "abbe99f7-5ee3-48c1-8b95-10409711c2ad",
   "metadata": {},
   "outputs": [
    {
     "data": {
      "text/plain": [
       "tensor([3., 6., 9.], device='mps:0', dtype=torch.float16)"
      ]
     },
     "execution_count": 41,
     "metadata": {},
     "output_type": "execute_result"
    }
   ],
   "source": [
    "float16_tensor = float32_tensor.type(torch.float16)\n",
    "float16_tensor"
   ]
  },
  {
   "cell_type": "code",
   "execution_count": 42,
   "id": "2f025f50-3b1d-4dd3-a112-1c1743b83009",
   "metadata": {},
   "outputs": [
    {
     "data": {
      "text/plain": [
       "tensor([ 6., 12., 18.], device='mps:0')"
      ]
     },
     "execution_count": 42,
     "metadata": {},
     "output_type": "execute_result"
    }
   ],
   "source": [
    "float32_tensor + cpu_tensor.to(float32_tensor.device)"
   ]
  },
  {
   "cell_type": "markdown",
   "id": "cee9cacf-fd54-4312-85d4-7af55f0bdcff",
   "metadata": {},
   "source": [
    "# Tensor Manipulation\n",
    "\n",
    "## Tensor Operations\n",
    "\n",
    "* Addition\n",
    "* Subtraction\n",
    "* Element-wise Multiplication\n",
    "* Matrix Multiplication\n",
    "* Division"
   ]
  },
  {
   "cell_type": "code",
   "execution_count": 57,
   "id": "85f162bc-19a6-4bff-9e36-08d13ec049f4",
   "metadata": {},
   "outputs": [
    {
     "data": {
      "text/plain": [
       "tensor([11., 12., 13.], device='mps:0')"
      ]
     },
     "execution_count": 57,
     "metadata": {},
     "output_type": "execute_result"
    }
   ],
   "source": [
    "tensor = torch.tensor([1., 2., 3.])\n",
    "tensor + 10"
   ]
  },
  {
   "cell_type": "code",
   "execution_count": 44,
   "id": "30f049a3-3990-43a4-a686-2638248e8c21",
   "metadata": {},
   "outputs": [
    {
     "data": {
      "text/plain": [
       "tensor([10., 20., 30.], device='mps:0')"
      ]
     },
     "execution_count": 44,
     "metadata": {},
     "output_type": "execute_result"
    }
   ],
   "source": [
    "tensor * 10"
   ]
  },
  {
   "cell_type": "code",
   "execution_count": 45,
   "id": "e209df68-93db-4dcf-b9f4-a2f1a1e898a0",
   "metadata": {},
   "outputs": [
    {
     "data": {
      "text/plain": [
       "tensor([10., 20., 30.], device='mps:0')"
      ]
     },
     "execution_count": 45,
     "metadata": {},
     "output_type": "execute_result"
    }
   ],
   "source": [
    "tensor * torch.tensor(10)"
   ]
  },
  {
   "cell_type": "code",
   "execution_count": 46,
   "id": "afade7d9-03de-487d-9c99-6c10a8ae96ca",
   "metadata": {},
   "outputs": [
    {
     "data": {
      "text/plain": [
       "tensor([-9., -8., -7.], device='mps:0')"
      ]
     },
     "execution_count": 46,
     "metadata": {},
     "output_type": "execute_result"
    }
   ],
   "source": [
    "tensor - 10"
   ]
  },
  {
   "cell_type": "code",
   "execution_count": 47,
   "id": "d1a717a5-2749-44b7-b9d0-2fa690a13026",
   "metadata": {},
   "outputs": [
    {
     "data": {
      "text/plain": [
       "tensor([0.1000, 0.2000, 0.3000], device='mps:0')"
      ]
     },
     "execution_count": 47,
     "metadata": {},
     "output_type": "execute_result"
    }
   ],
   "source": [
    "tensor / 10"
   ]
  },
  {
   "cell_type": "code",
   "execution_count": 48,
   "id": "91f5ff2c-ca12-4700-89eb-04bbcf27b5b6",
   "metadata": {},
   "outputs": [
    {
     "data": {
      "text/plain": [
       "tensor([1., 4., 9.], device='mps:0')"
      ]
     },
     "execution_count": 48,
     "metadata": {},
     "output_type": "execute_result"
    }
   ],
   "source": [
    "tensor ** 2"
   ]
  },
  {
   "cell_type": "code",
   "execution_count": 49,
   "id": "0614619f-640b-41f0-8dad-acaf50d8805e",
   "metadata": {},
   "outputs": [
    {
     "data": {
      "text/plain": [
       "tensor([10., 20., 30.], device='mps:0')"
      ]
     },
     "execution_count": 49,
     "metadata": {},
     "output_type": "execute_result"
    }
   ],
   "source": [
    "torch.mul(tensor, 10)"
   ]
  },
  {
   "cell_type": "code",
   "execution_count": 50,
   "id": "78dd6e1c-f1ee-4e84-856b-18bb827e4e75",
   "metadata": {},
   "outputs": [
    {
     "data": {
      "text/plain": [
       "tensor([11., 12., 13.], device='mps:0')"
      ]
     },
     "execution_count": 50,
     "metadata": {},
     "output_type": "execute_result"
    }
   ],
   "source": [
    "torch.add(tensor, 10)"
   ]
  },
  {
   "cell_type": "code",
   "execution_count": 51,
   "id": "7034413b-87a4-4ecc-a1a1-aaa06642a7b2",
   "metadata": {},
   "outputs": [
    {
     "data": {
      "text/plain": [
       "tensor([0.1000, 0.2000, 0.3000], device='mps:0')"
      ]
     },
     "execution_count": 51,
     "metadata": {},
     "output_type": "execute_result"
    }
   ],
   "source": [
    "torch.div(tensor, 10)"
   ]
  },
  {
   "cell_type": "code",
   "execution_count": 52,
   "id": "07559e2f-2d57-4c43-a73e-71533343c63f",
   "metadata": {},
   "outputs": [
    {
     "data": {
      "text/plain": [
       "tensor([1., 4., 9.], device='mps:0')"
      ]
     },
     "execution_count": 52,
     "metadata": {},
     "output_type": "execute_result"
    }
   ],
   "source": [
    "torch.pow(tensor, 2)"
   ]
  },
  {
   "cell_type": "code",
   "execution_count": 54,
   "id": "6cd65893-5995-4d34-abe9-9912ada6b0bb",
   "metadata": {},
   "outputs": [
    {
     "data": {
      "text/plain": [
       "tensor([-9., -8., -7.], device='mps:0')"
      ]
     },
     "execution_count": 54,
     "metadata": {},
     "output_type": "execute_result"
    }
   ],
   "source": [
    "torch.sub(tensor, 10)"
   ]
  },
  {
   "cell_type": "code",
   "execution_count": 55,
   "id": "d7a8898b-cca9-4075-baf6-86e13732508c",
   "metadata": {},
   "outputs": [
    {
     "data": {
      "text/plain": [
       "tensor([1., 4., 9.], device='mps:0')"
      ]
     },
     "execution_count": 55,
     "metadata": {},
     "output_type": "execute_result"
    }
   ],
   "source": [
    "# Matrix Multiplication\n",
    "\n",
    "## Element-wise\n",
    "\n",
    "tensor * tensor"
   ]
  },
  {
   "cell_type": "code",
   "execution_count": 56,
   "id": "ff95fe91-26f8-43eb-b1c6-d5db8ecf5b68",
   "metadata": {},
   "outputs": [
    {
     "data": {
      "text/plain": [
       "tensor(14., device='mps:0')"
      ]
     },
     "execution_count": 56,
     "metadata": {},
     "output_type": "execute_result"
    }
   ],
   "source": [
    "## Dot product\n",
    "torch.matmul(tensor, tensor)"
   ]
  },
  {
   "cell_type": "code",
   "execution_count": 115,
   "id": "1d3de132-f9de-44c1-bac7-c9984d58384c",
   "metadata": {},
   "outputs": [
    {
     "name": "stdout",
     "output_type": "stream",
     "text": [
      "36.4 µs ± 69.7 ns per loop (mean ± std. dev. of 7 runs, 10,000 loops each)\n"
     ]
    }
   ],
   "source": [
    "%%timeit\n",
    "\n",
    "torch.matmul(tensor, tensor)"
   ]
  },
  {
   "cell_type": "code",
   "execution_count": 144,
   "id": "4c9f9e9c-3352-4be5-b5d2-fd774bf0fd40",
   "metadata": {},
   "outputs": [
    {
     "name": "stdout",
     "output_type": "stream",
     "text": [
      "279 µs ± 2.45 µs per loop (mean ± std. dev. of 7 runs, 1,000 loops each)\n"
     ]
    }
   ],
   "source": [
    "%%timeit\n",
    "\n",
    "value = 0\n",
    "for element in tensor:\n",
    "    value += element * element"
   ]
  },
  {
   "cell_type": "code",
   "execution_count": 117,
   "id": "2ea19f5d-0b45-4b24-89b7-ef4ce207638e",
   "metadata": {},
   "outputs": [
    {
     "name": "stdout",
     "output_type": "stream",
     "text": [
      "36.7 µs ± 166 ns per loop (mean ± std. dev. of 7 runs, 10,000 loops each)\n"
     ]
    }
   ],
   "source": [
    "%%timeit\n",
    "\n",
    "tensor @ tensor"
   ]
  },
  {
   "cell_type": "code",
   "execution_count": 141,
   "id": "8b7a0da9-0ddc-4a85-bb25-61df894ff5f9",
   "metadata": {},
   "outputs": [],
   "source": [
    "# Matmul of N-DIM tensors\n",
    "\n",
    "ndim_tensor = torch.rand(4, 1, 3, 2) @ torch.rand(5, 2, 6)"
   ]
  },
  {
   "cell_type": "code",
   "execution_count": 143,
   "id": "43d577c4-81a0-4660-b0a6-6e717941923c",
   "metadata": {},
   "outputs": [
    {
     "data": {
      "text/plain": [
       "torch.Size([4, 5, 3, 6])"
      ]
     },
     "execution_count": 143,
     "metadata": {},
     "output_type": "execute_result"
    }
   ],
   "source": [
    "ndim_tensor.shape"
   ]
  }
 ],
 "metadata": {
  "kernelspec": {
   "display_name": "Python 3 (ipykernel)",
   "language": "python",
   "name": "python3"
  },
  "language_info": {
   "codemirror_mode": {
    "name": "ipython",
    "version": 3
   },
   "file_extension": ".py",
   "mimetype": "text/x-python",
   "name": "python",
   "nbconvert_exporter": "python",
   "pygments_lexer": "ipython3",
   "version": "3.11.3"
  }
 },
 "nbformat": 4,
 "nbformat_minor": 5
}
