{
 "cells": [
  {
   "cell_type": "code",
   "execution_count": 73,
   "id": "b910ba41-b0a6-42c5-904d-f8a1cb44f8e2",
   "metadata": {},
   "outputs": [
    {
     "data": {
      "text/plain": [
       "('Seed: 42', 'Device: mps', 'PyTorch: 2.0.1')"
      ]
     },
     "execution_count": 73,
     "metadata": {},
     "output_type": "execute_result"
    }
   ],
   "source": [
    "%matplotlib inline\n",
    "import numpy as np\n",
    "import pandas as pd\n",
    "import torch\n",
    "from torch import nn # torch.nn contains all of PT building blocks for Neural Networks\n",
    "import matplotlib.pyplot as plt\n",
    "\n",
    "DEVICE = \"cuda\" if torch.cuda.is_available() \\\n",
    "    else \"mps\" if torch.backends.mps.is_available() \\\n",
    "    else \"cpu\"\n",
    "\n",
    "RANDOM_SEED = 42\n",
    "\n",
    "torch.set_default_device(DEVICE)\n",
    "torch.manual_seed(RANDOM_SEED)\n",
    "f\"Seed: {RANDOM_SEED}\", f\"Device: {DEVICE}\", f\"PyTorch: {torch.__version__}\""
   ]
  },
  {
   "cell_type": "markdown",
   "id": "b94d3b88-8b85-4bd7-ba09-5faf06f19174",
   "metadata": {},
   "source": [
    "# PyTorch Workflow\n",
    "\n",
    "Example E2E PyTorch workflow"
   ]
  },
  {
   "cell_type": "code",
   "execution_count": 74,
   "id": "cda3c71b-d06e-4877-b99c-9cd7fe0e7889",
   "metadata": {},
   "outputs": [
    {
     "data": {
      "text/plain": [
       "{1: 'data (prep and load)',\n",
       " 2: 'build models',\n",
       " 3: 'fit (train) models',\n",
       " 4: 'predict and evaluate (inference)',\n",
       " 5: 'save and load models',\n",
       " 6: 'pipelines'}"
      ]
     },
     "execution_count": 74,
     "metadata": {},
     "output_type": "execute_result"
    }
   ],
   "source": [
    "syllabus = {\n",
    "    1: \"data (prep and load)\",\n",
    "    2: \"build models\",\n",
    "    3: \"fit (train) models\",\n",
    "    4: \"predict and evaluate (inference)\",\n",
    "    5: \"save and load models\",\n",
    "    6: \"pipelines\"\n",
    "}\n",
    "\n",
    "syllabus"
   ]
  },
  {
   "cell_type": "markdown",
   "id": "392b6211-b19e-4fba-9258-7ef75111bb06",
   "metadata": {},
   "source": [
    "## Data Preprocessing and Data Loading"
   ]
  },
  {
   "cell_type": "code",
   "execution_count": 75,
   "id": "d078e7a6-1696-4e9e-ba6f-f4b0a1a73646",
   "metadata": {},
   "outputs": [
    {
     "data": {
      "text/plain": [
       "(tensor([[0.0000],\n",
       "         [0.0200],\n",
       "         [0.0400],\n",
       "         [0.0600],\n",
       "         [0.0800],\n",
       "         [0.1000],\n",
       "         [0.1200],\n",
       "         [0.1400],\n",
       "         [0.1600],\n",
       "         [0.1800],\n",
       "         [0.2000],\n",
       "         [0.2200],\n",
       "         [0.2400],\n",
       "         [0.2600],\n",
       "         [0.2800],\n",
       "         [0.3000],\n",
       "         [0.3200],\n",
       "         [0.3400],\n",
       "         [0.3600],\n",
       "         [0.3800],\n",
       "         [0.4000],\n",
       "         [0.4200],\n",
       "         [0.4400],\n",
       "         [0.4600],\n",
       "         [0.4800],\n",
       "         [0.5000],\n",
       "         [0.5200],\n",
       "         [0.5400],\n",
       "         [0.5600],\n",
       "         [0.5800],\n",
       "         [0.6000],\n",
       "         [0.6200],\n",
       "         [0.6400],\n",
       "         [0.6600],\n",
       "         [0.6800],\n",
       "         [0.7000],\n",
       "         [0.7200],\n",
       "         [0.7400],\n",
       "         [0.7600],\n",
       "         [0.7800],\n",
       "         [0.8000],\n",
       "         [0.8200],\n",
       "         [0.8400],\n",
       "         [0.8600],\n",
       "         [0.8800],\n",
       "         [0.9000],\n",
       "         [0.9200],\n",
       "         [0.9400],\n",
       "         [0.9600],\n",
       "         [0.9800]], device='mps:0'),\n",
       " torch.Size([50, 1]),\n",
       " tensor([[0.3317],\n",
       "         [0.3228],\n",
       "         [0.3338],\n",
       "         [0.3689],\n",
       "         [0.3399],\n",
       "         [0.3656],\n",
       "         [0.4015],\n",
       "         [0.3480],\n",
       "         [0.4029],\n",
       "         [0.3939],\n",
       "         [0.4497],\n",
       "         [0.4887],\n",
       "         [0.4647],\n",
       "         [0.4527],\n",
       "         [0.4884],\n",
       "         [0.5332],\n",
       "         [0.5536],\n",
       "         [0.5130],\n",
       "         [0.5949],\n",
       "         [0.5513],\n",
       "         [0.6250],\n",
       "         [0.6115],\n",
       "         [0.6374],\n",
       "         [0.6302],\n",
       "         [0.5891],\n",
       "         [0.6783],\n",
       "         [0.7001],\n",
       "         [0.7173],\n",
       "         [0.7181],\n",
       "         [0.7328],\n",
       "         [0.7280],\n",
       "         [0.7279],\n",
       "         [0.7172],\n",
       "         [0.7625],\n",
       "         [0.7524],\n",
       "         [0.8045],\n",
       "         [0.7912],\n",
       "         [0.8572],\n",
       "         [0.8626],\n",
       "         [0.8570],\n",
       "         [0.8703],\n",
       "         [0.8330],\n",
       "         [0.9351],\n",
       "         [0.9398],\n",
       "         [0.8723],\n",
       "         [0.8928],\n",
       "         [0.9165],\n",
       "         [0.9947],\n",
       "         [0.9723],\n",
       "         [1.0181]], device='mps:0'),\n",
       " torch.Size([50, 1]))"
      ]
     },
     "execution_count": 75,
     "metadata": {},
     "output_type": "execute_result"
    }
   ],
   "source": [
    "# Create synthetic data\n",
    "\n",
    "## Create known params\n",
    "\n",
    "weight = 0.7\n",
    "bias = 0.3\n",
    "\n",
    "## Create tensors\n",
    "\n",
    "start = 0\n",
    "end = 1\n",
    "step = 0.02\n",
    "\n",
    "X = torch.arange(start, end, step).unsqueeze(dim=1)\n",
    "errors = 0.1 * torch.rand_like(X) - 0.05\n",
    "y = weight * X + bias + errors\n",
    "X, X.shape, y, y.shape"
   ]
  },
  {
   "cell_type": "code",
   "execution_count": 76,
   "id": "1b7a1cb0-9bbb-4757-ac78-c66cbedf5726",
   "metadata": {},
   "outputs": [
    {
     "data": {
      "text/plain": [
       "(40, 40, 10, 10)"
      ]
     },
     "execution_count": 76,
     "metadata": {},
     "output_type": "execute_result"
    }
   ],
   "source": [
    "# Create train / test split\n",
    "\n",
    "train_split = int(0.8 * len(X))\n",
    "\n",
    "X_train, y_train = X[:train_split], y[:train_split]\n",
    "X_test, y_test = X[train_split:], y[train_split:]\n",
    "\n",
    "len(X_train), len(y_train), len(X_test), len(y_test)"
   ]
  },
  {
   "cell_type": "code",
   "execution_count": 77,
   "id": "b57bff51-b8e1-4a4f-a99b-0f20c6b04f9c",
   "metadata": {},
   "outputs": [],
   "source": [
    "# Plotter\n",
    "def plot_predictions(train_data=X_train.cpu(),\n",
    "                     train_labels=y_train.cpu(),\n",
    "                     test_data=X_test.cpu(),\n",
    "                     test_labels=y_test.cpu(),\n",
    "                     predictions=None):\n",
    "    \"\"\"\n",
    "    Plots training data, test data and compares predictions.\n",
    "    \"\"\"\n",
    "    plt.figure(figsize=(10, 7))\n",
    "\n",
    "    # Plot training in blue\n",
    "    plt.scatter(train_data, train_labels, c=\"b\", s=4, label=\"Training data\")\n",
    "\n",
    "    # Plot training in green\n",
    "    plt.scatter(test_data, test_labels, c=\"g\", s=4, label=\"Testing data\")\n",
    "\n",
    "    if predictions is not None:\n",
    "        # Plot predictions in red\n",
    "        plt.scatter(test_data, predictions.cpu(), c=\"r\", s=4, label=\"Predictions\")\n",
    "\n",
    "    plt.legend(prop={\"size\": 14})"
   ]
  },
  {
   "cell_type": "code",
   "execution_count": 78,
   "id": "20c512ed-614b-49a6-9bd8-1ba7a6ffa245",
   "metadata": {},
   "outputs": [
    {
     "data": {
      "image/png": "[encoded data removed]",
      "text/plain": [
       "<Figure size 1000x700 with 1 Axes>"
      ]
     },
     "metadata": {},
     "output_type": "display_data"
    }
   ],
   "source": [
    "plot_predictions()"
   ]
  },
  {
   "cell_type": "markdown",
   "id": "c7042599-980c-40cf-b269-f01206f5567b",
   "metadata": {},
   "source": [
    "## Building PyTorch models\n",
    "\n",
    "* `torch.nn` -> building blocks for computational graphs\n",
    "* `torch.nn.Parameter` -> used to mark parameters that our model should learn, often a torch `Layer` will do this for us\n",
    "* `torch.nn.Module` -> base class for all nn modules: when subclassing, must override `forward()`\n",
    "* `torch.optim` -> optimizers implement gradient descent\n",
    "* `def forward()` -> all nn.Module subclasses require you to override forward(), this methods define what happens in the forward / predictive computation"
   ]
  },
  {
   "cell_type": "code",
   "execution_count": 79,
   "id": "39a678e5-1685-4f9d-934b-3222912e2073",
   "metadata": {},
   "outputs": [],
   "source": [
    "# Build model\n",
    "\n",
    "# Almost anything in PT inherits from nn.Module -> basic model building block\n",
    "class LinearRegressionModel(nn.Module):\n",
    "    def __init__(self):\n",
    "        super().__init__()\n",
    "\n",
    "        # Parameter is a special type of Tensor that registers itself as a module param\n",
    "        self.weights = nn.Parameter(torch.randn(1,\n",
    "                                                requires_grad=True,\n",
    "                                                dtype=torch.float))\n",
    "        self.bias = nn.Parameter(torch.randn(1, \n",
    "                                              requires_grad=True,\n",
    "                                              dtype=torch.float))\n",
    "\n",
    "    # Forward method to define computation in the model\n",
    "    def forward(self, x: torch.Tensor) -> torch.Tensor:\n",
    "        return self.weights * x + self.bias\n",
    "\n",
    "# NN learns via:\n",
    "# 1. Gradient Descent (require_grad=True)\n",
    "# 2. Backpropagation        "
   ]
  },
  {
   "cell_type": "code",
   "execution_count": 80,
   "id": "903b1d23-10d2-41f3-b0ad-0ba2c94b95d4",
   "metadata": {},
   "outputs": [
    {
     "data": {
      "text/plain": [
       "[('weights',\n",
       "  Parameter containing:\n",
       "  tensor([0.9047], device='mps:0', requires_grad=True)),\n",
       " ('bias',\n",
       "  Parameter containing:\n",
       "  tensor([-1.5057], device='mps:0', requires_grad=True))]"
      ]
     },
     "execution_count": 80,
     "metadata": {},
     "output_type": "execute_result"
    }
   ],
   "source": [
    "torch.manual_seed(RANDOM_SEED)\n",
    "\n",
    "model_0 = LinearRegressionModel()\n",
    "\n",
    "list(model_0.named_parameters())"
   ]
  },
  {
   "cell_type": "code",
   "execution_count": 81,
   "id": "83fb12dd-211d-478f-a78e-cb2b79b2edd0",
   "metadata": {},
   "outputs": [
    {
     "data": {
      "text/plain": [
       "OrderedDict([('weights', tensor([0.9047], device='mps:0')),\n",
       "             ('bias', tensor([-1.5057], device='mps:0'))])"
      ]
     },
     "execution_count": 81,
     "metadata": {},
     "output_type": "execute_result"
    }
   ],
   "source": [
    "model_0.state_dict()"
   ]
  },
  {
   "cell_type": "markdown",
   "id": "29c5aa3a-691a-48c3-808e-b6ebfedc3c30",
   "metadata": {},
   "source": [
    "# Making Predictions"
   ]
  },
  {
   "cell_type": "code",
   "execution_count": 82,
   "id": "a8239965-486c-49f1-a1ad-0f1a6ced4110",
   "metadata": {},
   "outputs": [
    {
     "data": {
      "text/plain": [
       "(tensor([[-0.7819],\n",
       "         [-0.7638],\n",
       "         [-0.7457],\n",
       "         [-0.7276],\n",
       "         [-0.7095],\n",
       "         [-0.6914],\n",
       "         [-0.6734],\n",
       "         [-0.6553],\n",
       "         [-0.6372],\n",
       "         [-0.6191]], device='mps:0'),\n",
       " tensor([[0.8703],\n",
       "         [0.8330],\n",
       "         [0.9351],\n",
       "         [0.9398],\n",
       "         [0.8723],\n",
       "         [0.8928],\n",
       "         [0.9165],\n",
       "         [0.9947],\n",
       "         [0.9723],\n",
       "         [1.0181]], device='mps:0'))"
      ]
     },
     "execution_count": 82,
     "metadata": {},
     "output_type": "execute_result"
    }
   ],
   "source": [
    "with torch.inference_mode():\n",
    "    y_pred = model_0(X_test)\n",
    "\n",
    "y_pred, y_test"
   ]
  },
  {
   "cell_type": "code",
   "execution_count": 83,
   "id": "2a5c8134-ec7d-48ff-8b1a-ea2de6dc9e39",
   "metadata": {},
   "outputs": [
    {
     "data": {
      "image/png": "[encoded data removed]",
      "text/plain": [
       "<Figure size 1000x700 with 1 Axes>"
      ]
     },
     "metadata": {},
     "output_type": "display_data"
    }
   ],
   "source": [
    "plot_predictions(predictions=y_pred)"
   ]
  },
  {
   "cell_type": "markdown",
   "id": "87650e5b-ec69-4a8c-b898-fcfbf670bb7c",
   "metadata": {},
   "source": [
    "## Model Training\n",
    "\n",
    "To train a model we need:\n",
    "\n",
    "1. __Loss__: A loss function / criterion / cost function -> measure how wrong predictions are wrt ideal output\n",
    "2. __Optimizer__: Takes into account the model's loss and adjusts the model's parameters to improve it\n",
    "\n",
    "Often losses and optimizers come in pairs.\n",
    "\n",
    "Also, for PyTorch we need:\n",
    "* Training Loop\n",
    "* Testing Loop"
   ]
  },
  {
   "cell_type": "code",
   "execution_count": 84,
   "id": "1655a5f6-7624-4d58-8d7e-acd6995c2a17",
   "metadata": {},
   "outputs": [
    {
     "data": {
      "text/plain": [
       "(tensor(0.1828, device='mps:0'),\n",
       " tensor(0.1828, device='mps:0'),\n",
       " tensor(True, device='mps:0'))"
      ]
     },
     "execution_count": 84,
     "metadata": {},
     "output_type": "execute_result"
    }
   ],
   "source": [
    "# Setup a Loss Function\n",
    "\n",
    "## Equivalent to torch.nn.L1Loss\n",
    "\n",
    "mean_absolute_error_loss_fn = lambda y_pred, y_test: torch.mean(torch.abs(y_pred - y_test))\n",
    "loss_fn = nn.L1Loss()\n",
    "\n",
    "# Setup an Optimizer Function\n",
    "\n",
    "## Basic Optimizers -> SGD -> Adam\n",
    "## Params -> Parameters that must be updated in the training loop\n",
    "## Learning Rate -> possibly the most important hyperparameter \n",
    "\n",
    "optimizer = torch.optim.SGD(params=model_0.parameters(),\n",
    "                            lr=0.01)\n",
    "\n",
    "\n",
    "with torch.inference_mode():\n",
    "    dummy_pred, dummy_target = torch.rand(3, 4), torch.rand(3,4)\n",
    "    loss_torch = loss_fn(dummy_pred, dummy_target)\n",
    "    loss_custom = mean_absolute_error_loss_fn(dummy_pred, dummy_target)\n",
    "    \n",
    "loss_torch, loss_custom, loss_torch == loss_custom"
   ]
  },
  {
   "cell_type": "markdown",
   "id": "0449c680-f65e-4b69-9b1f-64836f9fbe73",
   "metadata": {},
   "source": [
    "### Building a training loop (and a test loop)\n",
    "\n",
    "Components of a training loop:\n",
    "\n",
    "0. Loop through the data\n",
    "1. Set the model in training mode with `model.train()` -> PyTorch models are created in `model.eval()` mode: `model.train()` activates training features such as gradient tracking, batch normalization, dropout, autograd, enable forward and backward pass.\n",
    "2. Forward pass (this involves data moving through our model's `forward()` functions) -> make predictions on data - also called forward propagation\n",
    "3. Calculate the loss -> compare forward pass predictions to ground truth labels\n",
    "4. Optimizer zero grad -> Zero the gradient in the optimizer from previous calculations, the computation graph of `model.parameters()` is preserved, you are just zeroing the computed gradients from `loss.backward()` -> this is needed because gradients are accumulated, not overwritten, in case we want to accumulate gradients from different batches\n",
    "5. Loss backward -> move backwards through the network to calculate the gradient of each of the parameters of our model with respect to the loss (**backpropagation**)\n",
    "6. Optimizer step -> use the optimizer to adjust our model's parameters to try and improve the loss (**gradient descent**)"
   ]
  },
  {
   "cell_type": "code",
   "execution_count": 85,
   "id": "98e410d0-5e3f-42a6-bdd1-718593019d4e",
   "metadata": {},
   "outputs": [
    {
     "name": "stderr",
     "output_type": "stream",
     "text": [
      "/Users/Matteo.Fordiani/Library/Caches/pypoetry/virtualenvs/pytorch-basics-aT9may5l-py3.11/lib/python3.11/site-packages/torch/autograd/__init__.py:200: UserWarning: The operator 'aten::sgn.out' is not currently supported on the MPS backend and will fall back to run on the CPU. This may have performance implications. (Triggered internally at /Users/runner/work/pytorch/pytorch/pytorch/aten/src/ATen/mps/MPSFallback.mm:11.)\n",
      "  Variable._execution_engine.run_backward(  # Calls into the C++ engine to run the backward pass\n"
     ]
    }
   ],
   "source": [
    "# An epoch is one loop through the data...\n",
    "# epochs is a hyperparameter because we set it ourselves\n",
    "\n",
    "epochs = 1\n",
    "loss_fn = nn.L1Loss()\n",
    "optimizer = torch.optim.SGD(params=model_0.parameters(),\n",
    "                            lr=0.01)\n",
    "\n",
    "### Training\n",
    "\n",
    "# 0. Loop through data\n",
    "for epoch in range(epochs):\n",
    "    # 1. Set the model to training mode\n",
    "    model_0.train()\n",
    "\n",
    "    # 2. Forward pass\n",
    "    y_pred = model_0.forward(X_train)\n",
    "\n",
    "    # 3. Compute loss\n",
    "    loss = loss_fn(y_pred, y_train)\n",
    "\n",
    "    # 4. Optimizer zero grad\n",
    "    optimizer.zero_grad()\n",
    "\n",
    "    # 5. Perform backpropagation on the loss wrt the model's parameters\n",
    "    loss.backward()\n",
    "\n",
    "    # 6. Perform parameter optimization -> gradient descent\n",
    "    optimizer.step()"
   ]
  }
 ],
 "metadata": {
  "kernelspec": {
   "display_name": "Python 3 (ipykernel)",
   "language": "python",
   "name": "python3"
  },
  "language_info": {
   "codemirror_mode": {
    "name": "ipython",
    "version": 3
   },
   "file_extension": ".py",
   "mimetype": "text/x-python",
   "name": "python",
   "nbconvert_exporter": "python",
   "pygments_lexer": "ipython3",
   "version": "3.11.3"
  }
 },
 "nbformat": 4,
 "nbformat_minor": 5
}
